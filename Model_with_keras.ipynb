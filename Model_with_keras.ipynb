{
 "cells": [
  {
   "cell_type": "code",
   "execution_count": 1,
   "id": "c7abda4a",
   "metadata": {},
   "outputs": [],
   "source": [
    "import tensorflow as tf\n",
    "import tensorflow.compat.v1 as tf1"
   ]
  },
  {
   "cell_type": "code",
   "execution_count": 2,
   "id": "d62be8c2",
   "metadata": {},
   "outputs": [],
   "source": [
    "features = [[1., 1.5], [2., 2.5], [3., 3.5]]\n",
    "labels = [[0.3], [0.5], [0.7]]\n",
    "eval_features = [[4., 4.5], [5., 5.5], [6., 6.5]]\n",
    "eval_labels = [[0.8], [0.9], [1.]]"
   ]
  },
  {
   "cell_type": "code",
   "execution_count": 3,
   "id": "d9d31435",
   "metadata": {},
   "outputs": [],
   "source": [
    "def _input_fn():\n",
    "  return tf1.data.Dataset.from_tensor_slices((features, labels)).batch(1)\n",
    "\n",
    "def _eval_input_fn():\n",
    "  return tf1.data.Dataset.from_tensor_slices(\n",
    "      (eval_features, eval_labels)).batch(1)\n",
    "\n",
    "def _model_fn(features, labels, mode):\n",
    "  logits = tf1.layers.Dense(1)(features)\n",
    "  loss = tf1.losses.mean_squared_error(labels=labels, predictions=logits)\n",
    "  optimizer = tf1.train.AdagradOptimizer(0.05)\n",
    "  train_op = optimizer.minimize(loss, global_step=tf1.train.get_global_step())\n",
    "  return tf1.estimator.EstimatorSpec(mode, loss=loss, train_op=train_op)"
   ]
  },
  {
   "cell_type": "code",
   "execution_count": 5,
   "id": "2a001f1e",
   "metadata": {},
   "outputs": [],
   "source": [
    "dataset = tf.data.Dataset.from_tensor_slices((features, labels)).batch(1)\n",
    "eval_dataset = tf.data.Dataset.from_tensor_slices(\n",
    "      (eval_features, eval_labels)).batch(1)\n",
    "\n",
    "model = tf.keras.models.Sequential([tf.keras.layers.Dense(1)])\n",
    "optimizer = tf.keras.optimizers.Adagrad(learning_rate=0.05)\n",
    "\n",
    "model.compile(optimizer=optimizer, loss=\"mse\")"
   ]
  },
  {
   "cell_type": "code",
   "execution_count": 6,
   "id": "1cd7a286",
   "metadata": {},
   "outputs": [
    {
     "name": "stdout",
     "output_type": "stream",
     "text": [
      "3/3 [==============================] - 0s 2ms/step - loss: 36.9238\n"
     ]
    },
    {
     "data": {
      "text/plain": [
       "<tensorflow.python.keras.callbacks.History at 0x1d1ae416b20>"
      ]
     },
     "execution_count": 6,
     "metadata": {},
     "output_type": "execute_result"
    }
   ],
   "source": [
    "model.fit(dataset)"
   ]
  },
  {
   "cell_type": "code",
   "execution_count": 7,
   "id": "5c3ed3a5",
   "metadata": {},
   "outputs": [
    {
     "name": "stdout",
     "output_type": "stream",
     "text": [
      "3/3 [==============================] - 0s 672us/step - loss: 155.6738\n"
     ]
    },
    {
     "data": {
      "text/plain": [
       "{'loss': 155.6737823486328}"
      ]
     },
     "execution_count": 7,
     "metadata": {},
     "output_type": "execute_result"
    }
   ],
   "source": [
    "model.evaluate(eval_dataset, return_dict=True)"
   ]
  },
  {
   "cell_type": "code",
   "execution_count": null,
   "id": "aece6fcb",
   "metadata": {},
   "outputs": [],
   "source": []
  }
 ],
 "metadata": {
  "kernelspec": {
   "display_name": "Python 3",
   "language": "python",
   "name": "python3"
  },
  "language_info": {
   "codemirror_mode": {
    "name": "ipython",
    "version": 3
   },
   "file_extension": ".py",
   "mimetype": "text/x-python",
   "name": "python",
   "nbconvert_exporter": "python",
   "pygments_lexer": "ipython3",
   "version": "3.8.8"
  }
 },
 "nbformat": 4,
 "nbformat_minor": 5
}
