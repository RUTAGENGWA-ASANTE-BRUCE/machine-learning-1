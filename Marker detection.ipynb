{
 "cells": [
  {
   "cell_type": "code",
   "execution_count": 53,
   "id": "7f3b9a4f",
   "metadata": {},
   "outputs": [],
   "source": [
    "import cv2 as cv\n",
    "from cv2 import aruco\n",
    "import numpy as np\n",
    "\n",
    "marker_dict = aruco.Dictionary_get(aruco.DICT_4X4_50)\n",
    "\n",
    "param_markers = aruco.DetectorParameters_create()\n",
    "\n",
    "cap = cv.VideoCapture(\"video/aruco_markers.mp4\")\n",
    "\n",
    "while True:\n",
    "    ret, frame = cap.read()\n",
    "    if not ret:\n",
    "        break\n",
    "    gray_frame = cv.cvtColor(frame, cv.COLOR_BGR2GRAY)\n",
    "    marker_corners, marker_IDs, reject = aruco.detectMarkers(\n",
    "        gray_frame, marker_dict, parameters=param_markers\n",
    "    )\n",
    "    if marker_corners:\n",
    "        for ids, corners in zip(marker_IDs, marker_corners):\n",
    "            cv.polylines(\n",
    "                frame, [corners.astype(np.int32)], True, (0, 255, 255), 4, cv.LINE_AA\n",
    "            )\n",
    "            corners = corners.reshape(4, 2)\n",
    "            corners = corners.astype(int)\n",
    "            top_right = corners[0].ravel()\n",
    "            top_left = corners[1].ravel()\n",
    "            bottom_right = corners[2].ravel()\n",
    "            bottom_left = corners[3].ravel()\n",
    "            cv.putText(\n",
    "                frame,\n",
    "                f\"id: {ids[0]}\",\n",
    "                top_right,\n",
    "                cv.FONT_HERSHEY_PLAIN,\n",
    "                1.3,\n",
    "                (200, 100, 0),\n",
    "                2,\n",
    "                cv.LINE_AA,\n",
    "            )\n",
    "            # print(ids, \"  \", corners)\n",
    "    cv.imshow(\"frame\", frame)\n",
    "    key = cv.waitKey(1)\n",
    "    if key == ord(\"q\"):\n",
    "        break\n",
    "cap.release()\n",
    "cv.destroyAllWindows()"
   ]
  }
 ],
 "metadata": {
  "kernelspec": {
   "display_name": "Python 3",
   "language": "python",
   "name": "python3"
  },
  "language_info": {
   "codemirror_mode": {
    "name": "ipython",
    "version": 3
   },
   "file_extension": ".py",
   "mimetype": "text/x-python",
   "name": "python",
   "nbconvert_exporter": "python",
   "pygments_lexer": "ipython3",
   "version": "3.8.8"
  }
 },
 "nbformat": 4,
 "nbformat_minor": 5
}
