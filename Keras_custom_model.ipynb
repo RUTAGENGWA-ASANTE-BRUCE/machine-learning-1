{
 "cells": [
  {
   "cell_type": "code",
   "execution_count": 2,
   "id": "0502b953",
   "metadata": {},
   "outputs": [],
   "source": [
    "import tensorflow as tf\n",
    "import tensorflow.compat.v1 as tf1"
   ]
  },
  {
   "cell_type": "code",
   "execution_count": 3,
   "id": "1e44c788",
   "metadata": {},
   "outputs": [],
   "source": [
    "features = [[1., 1.5], [2., 2.5], [3., 3.5]]\n",
    "labels = [[0.3], [0.5], [0.7]]\n",
    "eval_features = [[4., 4.5], [5., 5.5], [6., 6.5]]\n",
    "eval_labels = [[0.8], [0.9], [1.]]"
   ]
  },
  {
   "cell_type": "code",
   "execution_count": 4,
   "id": "cfbb4cbb",
   "metadata": {},
   "outputs": [],
   "source": [
    "class CustomModel(tf.keras.Sequential):\n",
    "  \"\"\"A custom sequential model that overrides `Model.train_step`.\"\"\"\n",
    "\n",
    "  def train_step(self, data):\n",
    "    batch_data, labels = data\n",
    "\n",
    "    with tf.GradientTape() as tape:\n",
    "      predictions = self(batch_data, training=True)\n",
    "      # Compute the loss value (the loss function is configured\n",
    "      # in `Model.compile`).\n",
    "      loss = self.compiled_loss(labels, predictions)\n",
    "\n",
    "    # Compute the gradients of the parameters with respect to the loss.\n",
    "    gradients = tape.gradient(loss, self.trainable_variables)\n",
    "    # Perform gradient descent by updating the weights/parameters.\n",
    "    self.optimizer.apply_gradients(zip(gradients, self.trainable_variables))\n",
    "    # Update the metrics (includes the metric that tracks the loss).\n",
    "    self.compiled_metrics.update_state(labels, predictions)\n",
    "    # Return a dict mapping metric names to the current values.\n",
    "    return {m.name: m.result() for m in self.metrics}"
   ]
  },
  {
   "cell_type": "code",
   "execution_count": 5,
   "id": "5cff4867",
   "metadata": {},
   "outputs": [],
   "source": [
    "dataset = tf.data.Dataset.from_tensor_slices((features, labels)).batch(1)\n",
    "eval_dataset = tf.data.Dataset.from_tensor_slices(\n",
    "      (eval_features, eval_labels)).batch(1)\n",
    "\n",
    "model = CustomModel([tf.keras.layers.Dense(1)])\n",
    "optimizer = tf.keras.optimizers.Adagrad(learning_rate=0.05)\n",
    "\n",
    "model.compile(optimizer=optimizer, loss=\"mse\")"
   ]
  },
  {
   "cell_type": "code",
   "execution_count": 6,
   "id": "896a55b6",
   "metadata": {},
   "outputs": [
    {
     "name": "stdout",
     "output_type": "stream",
     "text": [
      "3/3 [==============================] - 0s 0s/step - loss: 0.0404\n"
     ]
    },
    {
     "data": {
      "text/plain": [
       "<tensorflow.python.keras.callbacks.History at 0x219cf63d5e0>"
      ]
     },
     "execution_count": 6,
     "metadata": {},
     "output_type": "execute_result"
    }
   ],
   "source": [
    "model.fit(dataset)"
   ]
  },
  {
   "cell_type": "code",
   "execution_count": 7,
   "id": "91ecc907",
   "metadata": {},
   "outputs": [
    {
     "name": "stdout",
     "output_type": "stream",
     "text": [
      "3/3 [==============================] - 0s 0s/step - loss: 0.0673\n"
     ]
    },
    {
     "data": {
      "text/plain": [
       "{'loss': 0.06727191805839539}"
      ]
     },
     "execution_count": 7,
     "metadata": {},
     "output_type": "execute_result"
    }
   ],
   "source": [
    "model.evaluate(eval_dataset, return_dict=True)"
   ]
  },
  {
   "cell_type": "code",
   "execution_count": null,
   "id": "3d0bb612",
   "metadata": {},
   "outputs": [],
   "source": []
  }
 ],
 "metadata": {
  "kernelspec": {
   "display_name": "Python 3",
   "language": "python",
   "name": "python3"
  },
  "language_info": {
   "codemirror_mode": {
    "name": "ipython",
    "version": 3
   },
   "file_extension": ".py",
   "mimetype": "text/x-python",
   "name": "python",
   "nbconvert_exporter": "python",
   "pygments_lexer": "ipython3",
   "version": "3.8.8"
  }
 },
 "nbformat": 4,
 "nbformat_minor": 5
}
