{
 "cells": [
  {
   "cell_type": "code",
   "execution_count": 1,
   "id": "1ef1f6f9",
   "metadata": {},
   "outputs": [],
   "source": [
    "import cv2 as cv\n",
    "from cv2 import aruco"
   ]
  },
  {
   "cell_type": "code",
   "execution_count": 7,
   "id": "17165eec",
   "metadata": {},
   "outputs": [
    {
     "ename": "AttributeError",
     "evalue": "module 'cv2.aruco' has no attribute 'DICT_7X7_30'",
     "output_type": "error",
     "traceback": [
      "\u001b[1;31m---------------------------------------------------------------------------\u001b[0m",
      "\u001b[1;31mAttributeError\u001b[0m                            Traceback (most recent call last)",
      "\u001b[1;32m<ipython-input-7-4125ce8338af>\u001b[0m in \u001b[0;36m<module>\u001b[1;34m\u001b[0m\n\u001b[1;32m----> 1\u001b[1;33m \u001b[0mmarker_dict\u001b[0m\u001b[1;33m=\u001b[0m\u001b[0maruco\u001b[0m\u001b[1;33m.\u001b[0m\u001b[0mDictionary_get\u001b[0m\u001b[1;33m(\u001b[0m\u001b[0maruco\u001b[0m\u001b[1;33m.\u001b[0m\u001b[0mDICT_7X7_30\u001b[0m\u001b[1;33m)\u001b[0m\u001b[1;33m\u001b[0m\u001b[1;33m\u001b[0m\u001b[0m\n\u001b[0m\u001b[0;32m      2\u001b[0m \u001b[0mMARKER_SIZE\u001b[0m\u001b[1;33m=\u001b[0m\u001b[1;36m400\u001b[0m\u001b[1;33m\u001b[0m\u001b[1;33m\u001b[0m\u001b[0m\n\u001b[0;32m      3\u001b[0m \u001b[1;33m\u001b[0m\u001b[0m\n\u001b[0;32m      4\u001b[0m \u001b[1;32mfor\u001b[0m \u001b[0mid\u001b[0m \u001b[1;32min\u001b[0m \u001b[0mrange\u001b[0m\u001b[1;33m(\u001b[0m\u001b[1;36m20\u001b[0m\u001b[1;33m)\u001b[0m\u001b[1;33m:\u001b[0m\u001b[1;33m\u001b[0m\u001b[1;33m\u001b[0m\u001b[0m\n\u001b[0;32m      5\u001b[0m     \u001b[0mmarker_image\u001b[0m\u001b[1;33m=\u001b[0m\u001b[0maruco\u001b[0m\u001b[1;33m.\u001b[0m\u001b[0mdrawMarker\u001b[0m\u001b[1;33m(\u001b[0m\u001b[0mmarker_dict\u001b[0m\u001b[1;33m,\u001b[0m\u001b[0mid\u001b[0m\u001b[1;33m,\u001b[0m\u001b[0mMARKER_SIZE\u001b[0m\u001b[1;33m)\u001b[0m\u001b[1;33m\u001b[0m\u001b[1;33m\u001b[0m\u001b[0m\n",
      "\u001b[1;31mAttributeError\u001b[0m: module 'cv2.aruco' has no attribute 'DICT_7X7_30'"
     ]
    }
   ],
   "source": [
    "marker_dict=aruco.Dictionary_get(aruco.DICT_6X6_30)\n",
    "MARKER_SIZE=400\n",
    "\n",
    "for id in range(20):\n",
    "    marker_image=aruco.drawMarker(marker_dict,id,MARKER_SIZE)\n",
    "    cv.imwrite(f\"markers/marker_{id}.png\",marker_image)\n",
    "#     cv.waitKey(0)\n",
    "#     break"
   ]
  },
  {
   "cell_type": "code",
   "execution_count": 2,
   "id": "734a1c35",
   "metadata": {},
   "outputs": [],
   "source": [
    "cv.imshow(\"frame\",aruco.drawMarker(aruco.Dictionary_get(aruco.DICT_4X4_50),37,400))"
   ]
  },
  {
   "cell_type": "code",
   "execution_count": null,
   "id": "98b015bd",
   "metadata": {},
   "outputs": [],
   "source": []
  }
 ],
 "metadata": {
  "kernelspec": {
   "display_name": "Python 3",
   "language": "python",
   "name": "python3"
  },
  "language_info": {
   "codemirror_mode": {
    "name": "ipython",
    "version": 3
   },
   "file_extension": ".py",
   "mimetype": "text/x-python",
   "name": "python",
   "nbconvert_exporter": "python",
   "pygments_lexer": "ipython3",
   "version": "3.8.8"
  }
 },
 "nbformat": 4,
 "nbformat_minor": 5
}
