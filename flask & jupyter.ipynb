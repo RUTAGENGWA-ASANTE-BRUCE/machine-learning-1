{
 "cells": [
  {
   "cell_type": "code",
   "execution_count": 1,
   "id": "3f94999a",
   "metadata": {},
   "outputs": [],
   "source": [
    "#importing libraries\n",
    "import os\n",
    "import numpy as np\n",
    "import pandas as pd\n",
    "from sklearn.tree import DecisionTreeClassifier\n",
    "from sklearn.model_selection import train_test_split\n",
    "from sklearn.metrics import accuracy_score\n",
    "from sklearn import tree\n",
    "import joblib\n",
    "import pickle\n",
    "from flask import Flask, render_template, request\n",
    "import flask"
   ]
  },
  {
   "cell_type": "code",
   "execution_count": 2,
   "id": "c5c7a3c7",
   "metadata": {},
   "outputs": [],
   "source": [
    "#creating instance of the class\n",
    "app=Flask(__name__)"
   ]
  },
  {
   "cell_type": "code",
   "execution_count": 3,
   "id": "58cec75d",
   "metadata": {},
   "outputs": [],
   "source": [
    "\n",
    "music_data=pd.read_csv('music.csv')\n",
    "X=music_data.drop(columns=['genre'])\n",
    "Y=music_data['genre']\n",
    "\n",
    "\n",
    "#splitting data into testing and training parts\n",
    "X_train,X_test,Y_train,Y_test=train_test_split(X,Y,test_size=0.2)"
   ]
  },
  {
   "cell_type": "code",
   "execution_count": 4,
   "id": "c4bf2158",
   "metadata": {},
   "outputs": [],
   "source": [
    "#loading a model\n",
    "model=joblib.load('music-recommender.joblib')"
   ]
  },
  {
   "cell_type": "code",
   "execution_count": 5,
   "id": "69f61353",
   "metadata": {},
   "outputs": [],
   "source": [
    "#to tell flask what url shoud trigger the function index()\n",
    "@app.route('/')\n",
    "@app.route('/index')\n",
    "def index():\n",
    "    return render_template('index.html')\n",
    "\n",
    "#prediction function\n",
    "def ValuePredictor(newAge,newGender):\n",
    "\n",
    "    predictions=model.predict(X_test)\n",
    "\n",
    "    #accuracy\n",
    "    accuracy=accuracy_score(Y_test,predictions)\n",
    "    newData=[newAge,newGender]\n",
    "    newPrediction=model.predict([newData])\n",
    "    result =f\"After the AI analysis this new person aged {newAge} and gender {newGender} likes {newPrediction[0]} {accuracy*100}%\"\n",
    "    return result\n",
    "\n",
    "\n",
    "@app.route('/result',methods = ['POST'])\n",
    "def result():\n",
    "    if request.method == 'POST':\n",
    "        to_predict_list = request.form.to_dict()\n",
    "        age = request.form.get(\"age\")\n",
    "        gender = request.form.get(\"gender\")\n",
    "    \n",
    "        result = ValuePredictor(age,gender)\n",
    "            \n",
    "        return render_template(\"result.html\",prediction=result)\n",
    "\n"
   ]
  },
  {
   "cell_type": "code",
   "execution_count": null,
   "id": "cfa2c0e5",
   "metadata": {},
   "outputs": [
    {
     "name": "stderr",
     "output_type": "stream",
     "text": [
      "\u001b[33m * Tip: There are .env or .flaskenv files present. Do \"pip install python-dotenv\" to use them.\u001b[0m\r\n"
     ]
    },
    {
     "name": "stdout",
     "output_type": "stream",
     "text": [
      " * Serving Flask app '__main__'\n",
      " * Debug mode: off\n"
     ]
    },
    {
     "name": "stderr",
     "output_type": "stream",
     "text": [
      "WARNING: This is a development server. Do not use it in a production deployment. Use a production WSGI server instead.\n",
      " * Running on all addresses (0.0.0.0)\n",
      " * Running on http://127.0.0.1:8000\n",
      " * Running on http://192.168.1.105:8000\n",
      "Press CTRL+C to quit\n",
      "127.0.0.1 - - [13/Nov/2022 19:21:22] \"GET / HTTP/1.1\" 200 -\n",
      "127.0.0.1 - - [13/Nov/2022 19:21:27] \"POST /result HTTP/1.1\" 200 -\n",
      "127.0.0.1 - - [13/Nov/2022 19:21:31] \"GET / HTTP/1.1\" 200 -\n",
      "127.0.0.1 - - [13/Nov/2022 19:21:44] \"POST /result HTTP/1.1\" 200 -\n",
      "127.0.0.1 - - [13/Nov/2022 19:23:07] \"GET / HTTP/1.1\" 200 -\n",
      "127.0.0.1 - - [13/Nov/2022 19:23:11] \"POST /result HTTP/1.1\" 200 -\n"
     ]
    }
   ],
   "source": [
    "if __name__ == '__main__':\n",
    "    app.run(host='0.0.0.0',port=8000)"
   ]
  }
 ],
 "metadata": {
  "kernelspec": {
   "display_name": "Python 3",
   "language": "python",
   "name": "python3"
  },
  "language_info": {
   "codemirror_mode": {
    "name": "ipython",
    "version": 3
   },
   "file_extension": ".py",
   "mimetype": "text/x-python",
   "name": "python",
   "nbconvert_exporter": "python",
   "pygments_lexer": "ipython3",
   "version": "3.8.8"
  }
 },
 "nbformat": 4,
 "nbformat_minor": 5
}
